{
 "cells": [
  {
   "cell_type": "code",
   "execution_count": 1,
   "metadata": {},
   "outputs": [],
   "source": [
    "import mxnet as mx\n",
    "import numpy as np\n",
    "import scipy as sp\n",
    "import sys\n",
    "import networkx as nx\n",
    "import igraph as ig\n",
    "import logging\n",
    "import time\n",
    "import matplotlib.pyplot as plt"
   ]
  },
  {
   "cell_type": "code",
   "execution_count": 17,
   "metadata": {},
   "outputs": [],
   "source": [
    "def get_act(act):\n",
    "    if (act == 'sigmoid'):\n",
    "        return sp.special.expit\n",
    "    elif (act == 'tanh'):\n",
    "        return np.tanh\n",
    "    elif (act == 'relu'):\n",
    "        return lambda x: np.maximum(x, 0)\n",
    "    else:\n",
    "        return None\n",
    "    \n",
    "weight_names = ['fc1_weight', 'fc2_weight']\n",
    "bias_names = ['fc1_bias', 'fc2_bias']\n",
    "\n",
    "def plot_errors(x, y):\n",
    "    plt.plot(x, y)\n",
    "    plt.ylabel('error')\n",
    "    plt.xlabel('epoch')\n",
    "    plt.show()\n",
    "\n",
    "class AutoEncoderModel:\n",
    "    def __init__(self, data, num_dims, internal_act=None, output_act=None, learning_rate=0.005, batch_size=50):\n",
    "        dims = [data.shape[1], num_dims, data.shape[1]]\n",
    "        self.data = mx.symbol.Variable('data')\n",
    "        self.y = mx.symbol.Variable('label')\n",
    "        self.fc1_weight = mx.symbol.Variable(weight_names[0])\n",
    "        self.fc1_bias = mx.symbol.Variable(bias_names[0])\n",
    "        self.fc2_weight = mx.symbol.Variable(weight_names[1])\n",
    "        self.fc2_bias = mx.symbol.Variable(bias_names[1])\n",
    "        x = mx.symbol.FullyConnected(data=self.data, weight=self.fc1_weight,\n",
    "                                     bias=self.fc1_bias, num_hidden=dims[1])\n",
    "        if (internal_act is not None):\n",
    "            x = mx.symbol.Activation(data=x, act_type=internal_act)\n",
    "            print(\"Internal activation: \" + internal_act)\n",
    "        self.layer1 = x\n",
    "        x = mx.symbol.FullyConnected(data=x, weight=self.fc2_weight,\n",
    "                                     bias=self.fc2_bias, num_hidden=dims[2])\n",
    "        if (output_act is not None):\n",
    "            x = mx.symbol.Activation(data=x, act_type=output_act)\n",
    "            print(\"Output activation: \" + output_act)\n",
    "        self.layer2 = x\n",
    "        # TODO How about using L1/L2 regularization.\n",
    "        self.loss = mx.symbol.LinearRegressionOutput(data=x, label=self.y)\n",
    "        self.model = mx.mod.Module(symbol=self.loss, data_names=['data'], label_names = ['label'])\n",
    "        self.init_data(data, batch_size, learning_rate)\n",
    "        \n",
    "        def cal_model_numpy(params):\n",
    "            fc1_weight = params.get(weight_names[0]).asnumpy()\n",
    "            fc1_bias = params.get(bias_names[0]).asnumpy()\n",
    "            fc2_weight = params.get(weight_names[1]).asnumpy()\n",
    "            fc2_bias = params.get(bias_names[1]).asnumpy()\n",
    "\n",
    "            np_data = data.asnumpy()\n",
    "            hidden = np.dot(np_data, fc1_weight.T) + fc1_bias\n",
    "            act_func = get_act(internal_act)\n",
    "            if (act_func is not None):\n",
    "                hidden = act_func(hidden)\n",
    "            output = np.dot(hidden, fc2_weight.T) + fc2_bias\n",
    "            act_func = get_act(output_act)\n",
    "            if (act_func is not None):\n",
    "                output = act_func(output)\n",
    "            return np.sum(np.square(output - np_data))\n",
    "\n",
    "        self.numpy_cal = cal_model_numpy\n",
    "        \n",
    "    def init_data(self, data, batch_size=50, learning_rate=0.005):\n",
    "        self.learning_rate = learning_rate\n",
    "        self.batch_size = batch_size\n",
    "        data_iter = mx.io.NDArrayIter(data={'data':data}, label={'label':data},\n",
    "                batch_size=batch_size, shuffle=True,\n",
    "                last_batch_handle='roll_over')\n",
    "        print(\"Learning rate: \" + str(learning_rate))\n",
    "        print(\"batch size: \" + str(batch_size))\n",
    "        # allocate memory given the input data and label shapes\n",
    "        self.model.bind(data_shapes=data_iter.provide_data, label_shapes=data_iter.provide_label)\n",
    "        # initialize parameters by uniform random numbers\n",
    "        self.model.init_params(initializer=mx.init.Uniform(scale=.1))\n",
    "        # use SGD with learning rate 0.1 to train\n",
    "        self.model.init_optimizer(optimizer='sgd',\n",
    "                                  optimizer_params={'learning_rate': learning_rate,\n",
    "                                                    'momentum': 0.9})\n",
    "\n",
    "    def fit_int(self, data, batch_size, num_epoch, params=None, learning_rate=0.005, reinit_opt=True):\n",
    "        data_iter = mx.io.NDArrayIter(data={'data':data}, label={'label':data},\n",
    "                batch_size=batch_size, shuffle=True,\n",
    "                last_batch_handle='roll_over')\n",
    "        \n",
    "        if (params is not None):\n",
    "            self.model.set_params(arg_params=params, aux_params=None, force_init=True)\n",
    "            if (reinit_opt):\n",
    "                print(\"reinit optimizer. New learning rate: \" + str(learning_rate))\n",
    "                self.model.init_optimizer(optimizer='sgd',\n",
    "                                          optimizer_params={'learning_rate': learning_rate,\n",
    "                                                            'momentum': 0.9}, force_init=True)\n",
    "        # use accuracy as the metric\n",
    "        metric = mx.metric.create('acc')\n",
    "        # train 5 epochs, i.e. going over the data iter one pass\n",
    "        for epoch in range(num_epoch):\n",
    "            data_iter.reset()\n",
    "            metric.reset()\n",
    "            for batch in data_iter:\n",
    "                self.model.forward(batch, is_train=True)       # compute predictions\n",
    "                self.model.update_metric(metric, batch.label)  # accumulate prediction accuracy\n",
    "                self.model.backward()                          # compute gradients\n",
    "                self.model.update()                            # update parameters\n",
    "            #print('Epoch %d, Training %s' % (epoch, metric.get()))\n",
    "\n",
    "    def train(self, data, num_epoc, params = None, debug=False, return_err=False):\n",
    "        print(\"internal #epochs: \" + str(num_epoc))\n",
    "        int_epoc = 100\n",
    "        prev_val = None\n",
    "        reinit_opt = True\n",
    "        plot_xs = []\n",
    "        plot_yx = []\n",
    "        for i in range(num_epoc/int_epoc):\n",
    "            curr = time.time()\n",
    "            self.fit_int(data, self.batch_size, int_epoc, params, self.learning_rate, reinit_opt=reinit_opt)\n",
    "            if (debug):\n",
    "                print(str(int_epoc) + \" epochs takes \" + str(time.time() - curr) + \" seconds\")\n",
    "            reinit_opt = False\n",
    "\n",
    "            params = self.model.get_params()[0]\n",
    "            val = self.numpy_cal(params)\n",
    "            plot_xs.append((i + 1) * int_epoc)\n",
    "            plot_yx.append(val)\n",
    "            if (debug):\n",
    "                print(\"epoc \" + str((i + 1) * int_epoc) + \": \" + str(val))\n",
    "                sys.stdout.flush()\n",
    "            if (prev_val is not None and prev_val < val):\n",
    "                self.learning_rate = self.learning_rate / 2\n",
    "                reinit_opt = True\n",
    "            prev_val = val\n",
    "        plot_errors(plot_xs, plot_yx)\n",
    "        if (return_err):\n",
    "            return params, plot_xs, plot_yx\n",
    "        else:\n",
    "            return params"
   ]
  },
  {
   "cell_type": "code",
   "execution_count": 18,
   "metadata": {},
   "outputs": [],
   "source": [
    "def train(data, num_dims, num_epoc, internal_act=None, output_act=None, learning_rate=0.005, batch_size=50, debug=False, return_err=False):\n",
    "    model = AutoEncoderModel(data, num_dims, internal_act, output_act, learning_rate, batch_size)\n",
    "    return model.train(data, num_epoc, debug=debug, return_err=return_err)"
   ]
  },
  {
   "cell_type": "markdown",
   "metadata": {},
   "source": [
    "## Run on a low-rank data"
   ]
  },
  {
   "cell_type": "code",
   "execution_count": 19,
   "metadata": {},
   "outputs": [
    {
     "name": "stdout",
     "output_type": "stream",
     "text": [
      "max: \n",
      "[ 5.49624777]\n",
      "<NDArray 1 @cpu(0)>\n",
      "(1000L, 100L)\n"
     ]
    }
   ],
   "source": [
    "rand_data1 = mx.ndarray.random_uniform(shape=[1000, 10])\n",
    "rand_data2 = mx.ndarray.random_uniform(shape=[10, 100])\n",
    "rand_data = mx.ndarray.dot(rand_data1, rand_data2)\n",
    "print(\"max: \" + str(mx.ndarray.max(rand_data)))\n",
    "rand_data = rand_data / mx.ndarray.max(rand_data)\n",
    "print(rand_data.shape)"
   ]
  },
  {
   "cell_type": "code",
   "execution_count": 20,
   "metadata": {},
   "outputs": [
    {
     "name": "stdout",
     "output_type": "stream",
     "text": [
      "[[-0.06789682  0.11745708  0.01811091 ..., -0.22041818  0.25947556\n",
      "   4.58424139]\n",
      " [ 0.06577194  0.15134373  0.12103066 ...,  0.09472218  0.52994013\n",
      "   4.72747707]\n",
      " [ 0.18843757 -0.02188844  0.01198309 ..., -0.19646543  0.0452216\n",
      "   3.51541185]\n",
      " ..., \n",
      " [ 0.14157917  0.11198635 -0.05527457 ..., -0.25732851  0.19383214\n",
      "   4.35923386]\n",
      " [ 0.04307616 -0.11992847 -0.01043215 ..., -0.1986502  -0.17690027\n",
      "   5.00072002]\n",
      " [-0.03079219  0.05760233 -0.08055174 ...,  0.09610062 -0.04332777\n",
      "   3.86204791]]\n",
      "5186.59034291\n",
      "-553.564527681\n",
      "svd error: 1.31856e-08\n"
     ]
    }
   ],
   "source": [
    "np_rand_data = rand_data.asnumpy()\n",
    "U, s, Vh = sp.sparse.linalg.svds(np_rand_data, k=10)\n",
    "low_dim_data = np.dot(np_rand_data, Vh.T)\n",
    "print(low_dim_data)\n",
    "print(sum(low_dim_data[low_dim_data > 0]))\n",
    "print(sum(low_dim_data[low_dim_data < 0]))\n",
    "res = np.dot(low_dim_data, Vh)\n",
    "print(\"svd error: \" + str(np.sum(np.square(res - np_rand_data))))"
   ]
  },
  {
   "cell_type": "code",
   "execution_count": 21,
   "metadata": {
    "scrolled": true
   },
   "outputs": [
    {
     "name": "stdout",
     "output_type": "stream",
     "text": [
      "Learning rate: 0.4\n",
      "batch size: 100\n",
      "internal #epochs: 5000\n"
     ]
    },
    {
     "data": {
      "image/png": "[encoded data removed]",
      "text/plain": [
       "<matplotlib.figure.Figure at 0x7fe18bd59a10>"
      ]
     },
     "metadata": {},
     "output_type": "display_data"
    }
   ],
   "source": [
    "params_linear_r10=train(rand_data, 10, 5000, learning_rate=0.4, batch_size=100)"
   ]
  },
  {
   "cell_type": "code",
   "execution_count": 22,
   "metadata": {
    "scrolled": true
   },
   "outputs": [
    {
     "name": "stdout",
     "output_type": "stream",
     "text": [
      "Internal activation: tanh\n",
      "Learning rate: 0.4\n",
      "batch size: 100\n",
      "internal #epochs: 5000\n",
      "reinit optimizer. New learning rate: 0.2\n",
      "reinit optimizer. New learning rate: 0.1\n",
      "reinit optimizer. New learning rate: 0.05\n"
     ]
    },
    {
     "data": {
      "image/png": "[encoded data removed]",
      "text/plain": [
       "<matplotlib.figure.Figure at 0x7fe188ccf0d0>"
      ]
     },
     "metadata": {},
     "output_type": "display_data"
    }
   ],
   "source": [
    "params_sigmoid_r10=train(rand_data, 10, 5000, internal_act='tanh', learning_rate=0.4, batch_size=100)"
   ]
  },
  {
   "cell_type": "markdown",
   "metadata": {},
   "source": [
    "## Run on real data\n",
    "\n",
    "We compute the embedding on a graph with 81306 vertices and 1768149 vertices. To embed the graph into 10 dimensions, we start with the most densest columns and increase the number of columns to embed. When we increase the number of columns to embed, we use the parameters trained from the previous run (on the dataset with a smaller number of columns)."
   ]
  },
  {
   "cell_type": "code",
   "execution_count": 23,
   "metadata": {},
   "outputs": [],
   "source": [
    "elg = nx.read_edgelist(\"/home/ubuntu/datasets/twitter_combined.txt\")\n",
    "spm = nx.to_scipy_sparse_matrix(elg, dtype='f')"
   ]
  },
  {
   "cell_type": "code",
   "execution_count": 24,
   "metadata": {},
   "outputs": [],
   "source": [
    "def get_densest_idx(spm, num):\n",
    "    colsum = np.ravel(spm.sum(axis=0))\n",
    "    max_cols = np.sort(np.ravel(colsum), axis=None)[len(colsum) - num]\n",
    "    return max_cols, colsum >= max_cols\n",
    "\n",
    "def get_densest(spm, num):\n",
    "    max_cols, idx = get_densest_idx(spm, num)\n",
    "    sp_data = spm[:,idx]\n",
    "    return sp_data\n",
    "\n",
    "def get_densest2(spm, num1, num2):\n",
    "    colsum = np.ravel(spm.sum(axis=1))\n",
    "    sorted_colsum = np.sort(np.ravel(colsum), axis=None)\n",
    "    max_cols1 = sorted_colsum[len(colsum) - num1]\n",
    "    max_cols2 = sorted_colsum[len(colsum) - (num2 + num1)]\n",
    "    sp_data1 = spm[:,colsum >= max_cols1]\n",
    "    sp_data2 = spm[:,np.logical_and(colsum >= max_cols2, colsum < max_cols1)]\n",
    "    return sp_data1, sp_data2"
   ]
  },
  {
   "cell_type": "markdown",
   "metadata": {},
   "source": [
    "### Compute the embedding on the densest 10 columns."
   ]
  },
  {
   "cell_type": "code",
   "execution_count": 25,
   "metadata": {},
   "outputs": [
    {
     "name": "stdout",
     "output_type": "stream",
     "text": [
      "\n",
      "[ 2490.  3383.  2484.  2758.  2476.  1789.  2133.  3011.  3239.  2155.]\n",
      "<NDArray 10 @cpu(0)>\n",
      "(81306L, 10L)\n"
     ]
    }
   ],
   "source": [
    "sp_data10 = get_densest(spm, 10)\n",
    "data10 = mx.ndarray.sparse.csr_matrix(sp_data10)\n",
    "print(mx.ndarray.sum(data10, axis=0))\n",
    "print(data10.shape)"
   ]
  },
  {
   "cell_type": "code",
   "execution_count": 26,
   "metadata": {},
   "outputs": [
    {
     "name": "stdout",
     "output_type": "stream",
     "text": [
      "(81306, 10)\n",
      "1.21314\n",
      "-2.3992\n",
      "svd error: 6.78263e-09\n"
     ]
    }
   ],
   "source": [
    "np_data10 = data10.asnumpy()\n",
    "U, s, Vh = sp.linalg.svd(np_data10, full_matrices=False)\n",
    "low_dim_data = np.dot(np_data10, Vh.T)\n",
    "print(low_dim_data.shape)\n",
    "print(np.max(low_dim_data))\n",
    "print(np.min(low_dim_data))\n",
    "res = np.dot(low_dim_data, Vh)\n",
    "print(\"svd error: \" + str(np.sum(np.square(res - np_data10))))"
   ]
  },
  {
   "cell_type": "code",
   "execution_count": 27,
   "metadata": {
    "scrolled": true
   },
   "outputs": [
    {
     "name": "stdout",
     "output_type": "stream",
     "text": [
      "Learning rate: 0.1\n",
      "batch size: 2000\n",
      "internal #epochs: 2000\n"
     ]
    },
    {
     "data": {
      "image/png": "[encoded data removed]",
      "text/plain": [
       "<matplotlib.figure.Figure at 0x7fe2505c38d0>"
      ]
     },
     "metadata": {},
     "output_type": "display_data"
    }
   ],
   "source": [
    "params_linear10=train(data10, 10, 2000, internal_act=None, learning_rate=0.1, batch_size=2000)"
   ]
  },
  {
   "cell_type": "code",
   "execution_count": 28,
   "metadata": {
    "scrolled": true
   },
   "outputs": [
    {
     "name": "stdout",
     "output_type": "stream",
     "text": [
      "Internal activation: tanh\n",
      "Learning rate: 0.1\n",
      "batch size: 2000\n",
      "internal #epochs: 10000\n"
     ]
    },
    {
     "data": {
      "image/png": "[encoded data removed]",
      "text/plain": [
       "<matplotlib.figure.Figure at 0x7fe188cb9190>"
      ]
     },
     "metadata": {},
     "output_type": "display_data"
    }
   ],
   "source": [
    "params_sigmoid10=train(data10, 10, 10000, internal_act='tanh', learning_rate=0.1, batch_size=2000)"
   ]
  },
  {
   "cell_type": "code",
   "execution_count": 29,
   "metadata": {
    "scrolled": true
   },
   "outputs": [
    {
     "name": "stdout",
     "output_type": "stream",
     "text": [
      "Internal activation: tanh\n",
      "Output activation: sigmoid\n",
      "Learning rate: 0.2\n",
      "batch size: 2000\n",
      "internal #epochs: 10000\n"
     ]
    },
    {
     "data": {
      "image/png": "[encoded data removed]",
      "text/plain": [
       "<matplotlib.figure.Figure at 0x7fe0ff5c79d0>"
      ]
     },
     "metadata": {},
     "output_type": "display_data"
    }
   ],
   "source": [
    "params_sigmoid10=train(data10, 10, 10000, internal_act='tanh', output_act='sigmoid', learning_rate=0.2, batch_size=2000)"
   ]
  },
  {
   "cell_type": "markdown",
   "metadata": {},
   "source": [
    "### Compute the embedding on the densest 30 columns"
   ]
  },
  {
   "cell_type": "code",
   "execution_count": 30,
   "metadata": {},
   "outputs": [
    {
     "name": "stdout",
     "output_type": "stream",
     "text": [
      "\n",
      "[ 1256.  1377.  1467.  1251.  1521.  1229.  2490.  1695.  1291.  1387.\n",
      "  1275.  1743.  1443.  1497.  3383.  2484.  2758.  1666.  1255.  2476.\n",
      "  1789.  1358.  1269.  1395.  2133.  3011.  3239.  1568.  2155.  1509.]\n",
      "<NDArray 30 @cpu(0)>\n",
      "(81306L, 30L)\n"
     ]
    }
   ],
   "source": [
    "sp_data30 = get_densest(spm, 30)\n",
    "data30 = mx.ndarray.sparse.csr_matrix(sp_data30)\n",
    "print(mx.ndarray.sum(data30, axis=0))\n",
    "print(data30.shape)"
   ]
  },
  {
   "cell_type": "code",
   "execution_count": 31,
   "metadata": {},
   "outputs": [
    {
     "name": "stdout",
     "output_type": "stream",
     "text": [
      "svd error: 12539.0\n"
     ]
    }
   ],
   "source": [
    "U, s, Vh = sp.sparse.linalg.svds(sp_data30, k=15)\n",
    "res = np.dot(sp_data30.dot(Vh.T), Vh)\n",
    "print(\"svd error: \" + str(np.sum(np.square(res - sp_data30))))"
   ]
  },
  {
   "cell_type": "code",
   "execution_count": 32,
   "metadata": {
    "scrolled": true
   },
   "outputs": [
    {
     "name": "stdout",
     "output_type": "stream",
     "text": [
      "Internal activation: tanh\n",
      "Output activation: sigmoid\n",
      "Learning rate: 0.2\n",
      "batch size: 2000\n",
      "internal #epochs: 5000\n"
     ]
    },
    {
     "data": {
      "image/png": "[encoded data removed]",
      "text/plain": [
       "<matplotlib.figure.Figure at 0x7fe188d10fd0>"
      ]
     },
     "metadata": {},
     "output_type": "display_data"
    }
   ],
   "source": [
    "params_sigmoid30=train(data30, num_dims=15, num_epoc=5000, internal_act='tanh', output_act='sigmoid', learning_rate=0.2, batch_size=2000)"
   ]
  },
  {
   "cell_type": "markdown",
   "metadata": {},
   "source": [
    "### Compute the embedding on the densest 100 columns."
   ]
  },
  {
   "cell_type": "code",
   "execution_count": 33,
   "metadata": {},
   "outputs": [
    {
     "name": "stdout",
     "output_type": "stream",
     "text": [
      "\n",
      "[ 1256.   923.  1180.   802.   979.   744.   948.   837.  1377.  1183.\n",
      "  1023.  1467.   748.  1251.  1198.   921.   818.   777.   889.  1185.\n",
      "  1521.   744.  1229.   916.   810.   804.   844.  1051.   861.   991.\n",
      "   784.  1225.  2490.   975.   915.   996.  1030.   822.   806.   756.\n",
      "  1695.   780.  1053.   964.  1291.  1103.  1091.  1387.  1275.   889.\n",
      "   828.  1743.  1443.   959.  1497.  3383.   798.   756.  1080.   937.\n",
      "   758.  2484.   879.   849.   766.   737.  2758.   733.   788.   878.\n",
      "  1666.   857.  1079.   902.   783.  1255.  2476.   780.  1789.  1054.\n",
      "   932.  1358.  1269.  1161.   765.   912.   818.  1220.  1395.  1009.\n",
      "   801.  2133.  3011.  3239.  1568.  2155.  1072.  1509.  1226.   779.]\n",
      "<NDArray 100 @cpu(0)>\n",
      "(81306L, 100L)\n"
     ]
    }
   ],
   "source": [
    "sp_data100 = get_densest(spm, 100)\n",
    "data100 = mx.ndarray.sparse.csr_matrix(sp_data100)\n",
    "print(mx.ndarray.sum(data100, axis=0))\n",
    "print(data100.shape)"
   ]
  },
  {
   "cell_type": "markdown",
   "metadata": {},
   "source": [
    "We want to start with SVD and see how well it performs."
   ]
  },
  {
   "cell_type": "code",
   "execution_count": 34,
   "metadata": {},
   "outputs": [
    {
     "name": "stdout",
     "output_type": "stream",
     "text": [
      "svd error: 42371.5\n"
     ]
    }
   ],
   "source": [
    "U, s, Vh = sp.sparse.linalg.svds(sp_data100, k=30)\n",
    "res = np.dot(sp_data100.dot(Vh.T), Vh)\n",
    "print(\"svd error: \" + str(np.sum(np.square(res - sp_data100))))"
   ]
  },
  {
   "cell_type": "markdown",
   "metadata": {},
   "source": [
    "With curriculum learning, we can take advantage of the computation results from the denser columns.\n",
    "To some extent, curriculum learning provides a new way of initializing the parameters of a neural network. We take the parameters from the neural network trained for the denser columns of a graph to initialize the neural network for the dataset with more columns.\n",
    "\n",
    "The functions below expand and shrink the weight matrices for the smaller or the larger neural networks."
   ]
  },
  {
   "cell_type": "code",
   "execution_count": 35,
   "metadata": {},
   "outputs": [],
   "source": [
    "# Extend the weight matrices in the encoder of the smaller autoencoder to\n",
    "# the shape required by the larger autoencoder.\n",
    "def extend_params_encode(weight, bias, idx, num_inputs, num_outputs, rand_init):\n",
    "    if (rand_init):\n",
    "        # We initialize the weights in the same way as MXNet\n",
    "        out_weight = np.random.uniform(low=-0.1, high=0.1, size=(num_outputs, num_inputs))\n",
    "    else:\n",
    "        out_weight = np.zeros((num_outputs, num_inputs))\n",
    "    out_bias = np.zeros(num_outputs)\n",
    "    out_weight[0:weight.shape[0], idx] = weight.asnumpy()\n",
    "    out_bias[0:bias.shape[0]] = bias.asnumpy()\n",
    "    return mx.nd.array(out_weight), mx.nd.array(out_bias)\n",
    "\n",
    "# Extend the weight matrices in the decoder of the smaller autoencoder to\n",
    "# the shape required by the larger autoencoder.\n",
    "def extend_params_decode(weight, bias, idx, num_inputs, num_outputs, rand_init):\n",
    "    if (rand_init):\n",
    "        # We initialize the weights in the same way as MXNet\n",
    "        out_weight = np.random.uniform(low=-0.1, high=0.1, size=(num_outputs, num_inputs))\n",
    "    else:\n",
    "        out_weight = np.zeros((num_outputs, num_inputs))\n",
    "    out_bias = np.zeros(num_outputs)\n",
    "    out_weight[idx, 0:weight.shape[1]] = weight.asnumpy()\n",
    "    out_bias[idx] = bias.asnumpy()\n",
    "    return mx.nd.array(out_weight), mx.nd.array(out_bias)\n",
    "\n",
    "# Shrink the weight matrices in the encoder of the larger autoencoder to\n",
    "# the shape required by the smaller autoencoder. This operation is\n",
    "# the reverse of extend_params_encode.\n",
    "def shrink_params_encode(weight, bias, idx, num_inputs, num_outputs):\n",
    "    weight = weight.asnumpy()\n",
    "    bias = bias.asnumpy()\n",
    "    return mx.nd.array(weight[0:num_outputs, idx]), mx.nd.array(bias[0:num_outputs])\n",
    "\n",
    "# Shrink the weight matrices in the decoder of the larger autoencoder to\n",
    "# the shape required by the smaller autoencoder. This operation is\n",
    "# the reverse of extend_params_decode.\n",
    "def shrink_params_decode(weight, bias, idx, num_inputs, num_outputs):\n",
    "    weight = weight.asnumpy()\n",
    "    bias = bias.asnumpy()\n",
    "    return mx.nd.array(weight[idx, 0:num_inputs]), mx.nd.array(bias[idx])\n",
    "\n",
    "# This function extends the parameter matrices in the small autoencoder\n",
    "# to an autoencoder with the specified number of input nodes and hidden nodes.\n",
    "def extend_params(params, new_data, new_hidden, rand_init=False):\n",
    "    old_inputs = params.get(weight_names[0]).shape[1]\n",
    "    old_hidden = params.get(bias_names[0]).shape[0]\n",
    "    new_inputs = new_data.shape[1]\n",
    "    max_cols, max_idx = get_densest_idx(new_data, old_inputs)\n",
    "    weight, bias = extend_params_encode(params.get(weight_names[0]),\n",
    "                                        params.get(bias_names[0]), max_idx,\n",
    "                                        new_inputs, new_hidden, rand_init)\n",
    "    new_params = {}\n",
    "    new_params.update({weight_names[0]: weight})\n",
    "    new_params.update({bias_names[0]: bias})\n",
    "    weight, bias = extend_params_decode(params.get(weight_names[1]),\n",
    "                                        params.get(bias_names[1]), max_idx,\n",
    "                                        new_hidden, new_inputs, rand_init)\n",
    "    new_params.update({weight_names[1]: weight})\n",
    "    new_params.update({bias_names[1]: bias})\n",
    "    return new_params"
   ]
  },
  {
   "cell_type": "markdown",
   "metadata": {},
   "source": [
    "The code in this section is to verify the implementation of the functions above work correctly."
   ]
  },
  {
   "cell_type": "code",
   "execution_count": null,
   "metadata": {},
   "outputs": [
    {
     "name": "stdout",
     "output_type": "stream",
     "text": [
      "2551.12\n",
      "2551.12\n"
     ]
    }
   ],
   "source": [
    "def cal_model_numpy(data, params, selected_cols=None, internal_act=None, output_act=None):\n",
    "    fc1_weight = params.get(weight_names[0]).asnumpy()\n",
    "    fc1_bias = params.get(bias_names[0]).asnumpy()\n",
    "    fc2_weight = params.get(weight_names[1]).asnumpy()\n",
    "    fc2_bias = params.get(bias_names[1]).asnumpy()\n",
    "\n",
    "    np_data = data.asnumpy()\n",
    "    hidden = np.dot(np_data, fc1_weight.T) + fc1_bias\n",
    "    act_func = get_act(internal_act)\n",
    "    if (act_func is not None):\n",
    "        hidden = act_func(hidden)\n",
    "    output = np.dot(hidden, fc2_weight.T) + fc2_bias\n",
    "    act_func = get_act(output_act)\n",
    "    if (act_func is not None):\n",
    "        output = act_func(output)\n",
    "    if (selected_cols is None):\n",
    "        return np.sum(np.square(output - np_data))\n",
    "    else:\n",
    "        return np.sum(np.square(output[:,selected_cols] - np_data[:,selected_cols]))\n",
    "\n",
    "tmp30 = params_sigmoid30\n",
    "tmp100 = extend_params(tmp30, sp_data100, 30, rand_init=False)\n",
    "max_cols30, max_idx30 = get_densest_idx(sp_data100, 30)\n",
    "print(cal_model_numpy(data30, tmp30, internal_act='tanh', output_act='sigmoid'))\n",
    "print(cal_model_numpy(data100, tmp100, selected_cols=max_idx30, internal_act='tanh', output_act='sigmoid'))"
   ]
  },
  {
   "cell_type": "markdown",
   "metadata": {},
   "source": [
    "Here we use the parameters from the smaller autoencoder to initialize the parameters in the larger autoencoder."
   ]
  },
  {
   "cell_type": "code",
   "execution_count": null,
   "metadata": {},
   "outputs": [
    {
     "name": "stdout",
     "output_type": "stream",
     "text": [
      "Internal activation: tanh\n",
      "Output activation: sigmoid\n",
      "Learning rate: 0.2\n",
      "batch size: 2000\n",
      "internal #epochs: 5000\n",
      "reinit optimizer. New learning rate: 0.2\n"
     ]
    }
   ],
   "source": [
    "params_sigmoid100_init = extend_params(params_sigmoid30, sp_data100, 30, rand_init=True)\n",
    "model = AutoEncoderModel(data100, 30, internal_act='tanh', output_act='sigmoid', learning_rate=0.2, batch_size=2000)\n",
    "params_sigmoid100 = model.train(data100, num_epoc=5000, params=params_sigmoid100_init)"
   ]
  },
  {
   "cell_type": "code",
   "execution_count": null,
   "metadata": {
    "scrolled": true
   },
   "outputs": [],
   "source": [
    "params_sigmoid100_2 = model.train(data100, num_epoc=5000, params=params_sigmoid100)"
   ]
  },
  {
   "cell_type": "code",
   "execution_count": null,
   "metadata": {
    "scrolled": true
   },
   "outputs": [],
   "source": [
    "params_sigmoid100_orig=train(data100, num_dims=30, num_epoc=10000, internal_act='tanh', output_act='sigmoid', learning_rate=0.2, batch_size=2000)"
   ]
  },
  {
   "cell_type": "markdown",
   "metadata": {},
   "source": [
    "### Compute the embedding on the densest 1000 columns."
   ]
  },
  {
   "cell_type": "code",
   "execution_count": null,
   "metadata": {},
   "outputs": [],
   "source": [
    "sp_data1000 = get_densest(spm, 1000)\n",
    "data1000 = mx.ndarray.sparse.csr_matrix(sp_data1000)\n",
    "print(mx.ndarray.sum(data1000, axis=0))\n",
    "print(data1000.shape)"
   ]
  },
  {
   "cell_type": "code",
   "execution_count": null,
   "metadata": {},
   "outputs": [],
   "source": [
    "U, s, Vh = sp.sparse.linalg.svds(sp_data1000, k=100)\n",
    "res = np.dot(sp_data1000.dot(Vh.T), Vh)\n",
    "print(\"svd error: \" + str(np.sum(np.square(res - sp_data1000))))"
   ]
  },
  {
   "cell_type": "code",
   "execution_count": null,
   "metadata": {
    "scrolled": true
   },
   "outputs": [],
   "source": [
    "params_sigmoid1000_init = extend_params(params_sigmoid100, sp_data1000, 100, rand_init=True)\n",
    "model = AutoEncoderModel(data1000, num_dims=100, internal_act='tanh', output_act='sigmoid', learning_rate=0.2, batch_size=2000)\n",
    "params_sigmoid1000 = model.train(data1000, num_epoc=10000, params=params_sigmoid1000_init)"
   ]
  },
  {
   "cell_type": "code",
   "execution_count": null,
   "metadata": {
    "scrolled": true
   },
   "outputs": [],
   "source": [
    "params_sigmoid1000=train(data1000, num_dims=100, num_epoc=10000, internal_act='tanh', output_act='sigmoid', learning_rate=0.2, batch_size=2000)"
   ]
  },
  {
   "cell_type": "code",
   "execution_count": null,
   "metadata": {},
   "outputs": [],
   "source": [
    "data1000 = mx.ndarray.sparse.csr_matrix(sp_data1000)\n",
    "print(mx.ndarray.sum(data1000, axis=0))\n",
    "print(data1000.shape)"
   ]
  },
  {
   "cell_type": "code",
   "execution_count": null,
   "metadata": {},
   "outputs": [],
   "source": [
    "pref_matrix = [[0.9, 0.1], [0.1, 0.9]]\n",
    "block_sizes = [70, 30]\n",
    "g = ig.Graph.SBM(100, pref_matrix, block_sizes, directed=True)\n",
    "sim_spm = g.get_adjacency()"
   ]
  },
  {
   "cell_type": "code",
   "execution_count": null,
   "metadata": {},
   "outputs": [],
   "source": []
  }
 ],
 "metadata": {
  "kernelspec": {
   "display_name": "Python 2",
   "language": "python",
   "name": "python2"
  },
  "language_info": {
   "codemirror_mode": {
    "name": "ipython",
    "version": 2
   },
   "file_extension": ".py",
   "mimetype": "text/x-python",
   "name": "python",
   "nbconvert_exporter": "python",
   "pygments_lexer": "ipython2",
   "version": "2.7.12"
  }
 },
 "nbformat": 4,
 "nbformat_minor": 2
}
